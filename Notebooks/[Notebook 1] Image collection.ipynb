{
 "cells": [
  {
   "cell_type": "markdown",
   "id": "c15da18a",
   "metadata": {},
   "source": [
    "## Notebook 1: Image collection"
   ]
  },
  {
   "cell_type": "markdown",
   "id": "63a303e2",
   "metadata": {},
   "source": [
    "### 1.1 Scraping images from Google Images using Hainanese Chicken Rice as an example\n",
    "\n",
    "As there is no available dataset re hawker food, we will have to assemble our own dataset by scraping Google Images for our respective hawker food classes. To do so, we will follow the example video uploaded by Christopher Zita ([*Source: Youtube*](https://www.youtube.com/watch?v=V_MV5EsdKRc)).\n",
    "\n",
    "In the following set of codes, we will be focusing on Hainanese Chicken Rice as an example.\n"
   ]
  },
  {
   "cell_type": "code",
   "execution_count": 1,
   "id": "9086564d",
   "metadata": {},
   "outputs": [],
   "source": [
    "#Importing the necessary libraries \n",
    "from selenium import webdriver\n",
    "from selenium.webdriver.common.keys import Keys\n",
    "import time"
   ]
  },
  {
   "cell_type": "code",
   "execution_count": 9,
   "id": "edbe2c4d",
   "metadata": {},
   "outputs": [],
   "source": [
    "#Opening up Google using Chrome\n",
    "driver = webdriver.Chrome(\"/Users/Derrick/Downloads/chromedriver\")\n",
    "driver.get(\"https://www.google.com\")"
   ]
  },
  {
   "cell_type": "code",
   "execution_count": 10,
   "id": "06c36306",
   "metadata": {},
   "outputs": [],
   "source": [
    "#Inputting Hainanese Chicken Rice into the search field and navigating to the \"Images\" column\n",
    "box = driver.find_element_by_xpath('/html/body/div[1]/div[3]/form/div[1]/div[1]/div[1]/div/div[2]/input')\n",
    "box.send_keys('hainanese chicken rice')\n",
    "box.send_keys(Keys.ENTER)\n",
    "driver.find_element_by_xpath('//*[@id=\"hdtb-msb\"]/div[1]/div/div[2]/a').click()"
   ]
  },
  {
   "cell_type": "code",
   "execution_count": 12,
   "id": "b46a39da",
   "metadata": {},
   "outputs": [],
   "source": [
    "#Function to continously scroll the webpage till the end so that we can take\n",
    "#screenshots of all the images available\n",
    "last_height = driver.execute_script('return document.body.scrollHeight')\n",
    "while True:\n",
    "    driver.execute_script('window.scrollTo(0,document.body.scrollHeight)')\n",
    "    time.sleep(2)\n",
    "    new_height = driver.execute_script('return document.body.scrollHeight')\n",
    "    try:\n",
    "        driver.find_element_by_xpath('///*[@id=\"islmp\"]/div/div/div/div/div[4]/div[2]/input').click()\n",
    "        time.sleep(2)\n",
    "    except:\n",
    "        pass\n",
    "    if new_height == last_height:\n",
    "        break\n",
    "    last_height = new_height\n"
   ]
  },
  {
   "cell_type": "code",
   "execution_count": 1,
   "id": "d227a307",
   "metadata": {},
   "outputs": [],
   "source": [
    "#Function to capture screenshots of all images of Hainanese Chicken Rice (in jpeg format) \n",
    "#and saving them into our designated folder\n",
    "for i in range(1,1000):\n",
    "    try:\n",
    "        driver.find_element_by_xpath('//*[@id=\"islrg\"]/div[1]/div['+str(i)+']/a[1]/div[1]/img').screenshot('/Users/Derrick/Documents/DSI-SG-21/Capstone/Datasets/Google Images/Chicken Rice/Chicken rice('+str(i)+').jpg')     \n",
    "    except: \n",
    "        pass"
   ]
  },
  {
   "cell_type": "markdown",
   "id": "3828825e",
   "metadata": {},
   "source": [
    "As with every search query, Google only provides ~600-800 associated images. In order to have more images, we will thus repeat the same process for the Chinese and Malay translations of Hainanese Chicken Rice (i.e. 海南鸡饭 and nasi ayam). The same process is also repeated for our remaining 11 classes of hawker food which we are interested to classify."
   ]
  }
 ],
 "metadata": {
  "kernelspec": {
   "display_name": "ee",
   "language": "python",
   "name": "ee"
  },
  "language_info": {
   "codemirror_mode": {
    "name": "ipython",
    "version": 3
   },
   "file_extension": ".py",
   "mimetype": "text/x-python",
   "name": "python",
   "nbconvert_exporter": "python",
   "pygments_lexer": "ipython3",
   "version": "3.9.2"
  }
 },
 "nbformat": 4,
 "nbformat_minor": 5
}
